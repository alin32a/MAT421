{
  "nbformat": 4,
  "nbformat_minor": 0,
  "metadata": {
    "colab": {
      "provenance": [],
      "authorship_tag": "ABX9TyNYV11px70h7FUen7DAcuWt",
      "include_colab_link": true
    },
    "kernelspec": {
      "name": "python3",
      "display_name": "Python 3"
    },
    "language_info": {
      "name": "python"
    }
  },
  "cells": [
    {
      "cell_type": "markdown",
      "metadata": {
        "id": "view-in-github",
        "colab_type": "text"
      },
      "source": [
        "<a href=\"https://colab.research.google.com/github/alin32a/MAT421/blob/main/ModuleA.ipynb\" target=\"_parent\"><img src=\"https://colab.research.google.com/assets/colab-badge.svg\" alt=\"Open In Colab\"/></a>"
      ]
    },
    {
      "cell_type": "markdown",
      "source": [
        "**Section 9.1 Base-N and Binary**"
      ],
      "metadata": {
        "id": "ysXPcqchexVB"
      }
    },
    {
      "cell_type": "markdown",
      "source": [
        "A base indicates how many possible digits there are to represent numbers within that system. For example, the traditional numerical system used throughout society is **base-10**, which allows for digits 0-9 to be used to represent numbers, from 7 to 85.3 to 1602.\n",
        "\n",
        "Taking a number such as 1602, we can expand it into the following:"
      ],
      "metadata": {
        "id": "0YLH7a3ae9aY"
      }
    },
    {
      "cell_type": "code",
      "source": [
        "1602 == (1 * 10**3) + (6 * 10**2) + (0 * 10**1) + (2 * 10**0)"
      ],
      "metadata": {
        "colab": {
          "base_uri": "https://localhost:8080/"
        },
        "id": "2WXWNbIhgHCs",
        "outputId": "a56ee0b2-cd12-4e7f-ec1b-e1eb4d114ea7"
      },
      "execution_count": 3,
      "outputs": [
        {
          "output_type": "execute_result",
          "data": {
            "text/plain": [
              "True"
            ]
          },
          "metadata": {},
          "execution_count": 3
        }
      ]
    },
    {
      "cell_type": "markdown",
      "source": [
        "Binary is synonymous with base 2, indicating that there is only 2 digits used to represent numbers: 0 and 1."
      ],
      "metadata": {
        "id": "rPn4ziwDfrTl"
      }
    },
    {
      "cell_type": "markdown",
      "source": [
        "In this case, a number such as **17** (base 10) would be represented as the following:"
      ],
      "metadata": {
        "id": "uUrM15qbgGO5"
      }
    },
    {
      "cell_type": "code",
      "source": [
        "17 == (1 * 2**4) + (0 * 2**3) + (0 * 2**2) + (0 * 2**1) + (1 * 2**0)"
      ],
      "metadata": {
        "colab": {
          "base_uri": "https://localhost:8080/"
        },
        "id": "8ZsfMpzNgj49",
        "outputId": "1e001bab-5ed5-4bb2-9db5-fe827f140d20"
      },
      "execution_count": 4,
      "outputs": [
        {
          "output_type": "execute_result",
          "data": {
            "text/plain": [
              "True"
            ]
          },
          "metadata": {},
          "execution_count": 4
        }
      ]
    },
    {
      "cell_type": "markdown",
      "source": [
        "Instead of **17** (base 10), we get **10001** (base 2)."
      ],
      "metadata": {
        "id": "OR3ZvYpgg0XS"
      }
    },
    {
      "cell_type": "markdown",
      "source": [
        "When it comes to addition in binary, we can apply similar principles to how we do addition in decimal (base 10)."
      ],
      "metadata": {
        "id": "Auj54TPhg5dc"
      }
    },
    {
      "cell_type": "markdown",
      "source": [
        "For example, if we have the numbers **1010** (base 2) and **0011** (base 2), we can add the two to get **1101** (base 2)."
      ],
      "metadata": {
        "id": "9xTP3kH_hi4T"
      }
    },
    {
      "cell_type": "markdown",
      "source": [
        "The addition of these same numbers in base 10 would yield the same result:\n",
        "\n",
        "*1010 (base 2) = 10 (base 10)*\n",
        "\n",
        "*0011 (base 2) = 3 (base 10)*\n",
        "\n",
        "*10 (base 10) + 3 (base 10) = 13 (base 10)*\n",
        "\n"
      ],
      "metadata": {
        "id": "JMSGZIf8h1P0"
      }
    },
    {
      "cell_type": "code",
      "source": [
        "13 == (1 * 2**3) + (1 * 2**2) + (0 * 2**1) + (1 * 2**0)"
      ],
      "metadata": {
        "colab": {
          "base_uri": "https://localhost:8080/"
        },
        "id": "Opys8ppfiUoo",
        "outputId": "ff0db72e-0f91-4256-9ea5-72af0bd6d3d5"
      },
      "execution_count": 5,
      "outputs": [
        {
          "output_type": "execute_result",
          "data": {
            "text/plain": [
              "True"
            ]
          },
          "metadata": {},
          "execution_count": 5
        }
      ]
    },
    {
      "cell_type": "markdown",
      "source": [
        "**Section 9.2 Floating Point Numbers**"
      ],
      "metadata": {
        "id": "0cwpkJJEidR6"
      }
    },
    {
      "cell_type": "markdown",
      "source": [
        "In Python, floating point numbers **(floats)** are utilized to grant a larger precision and range of numbers. Bits in floats are allocated into a **sign indicator**, a **characteristic/exponent**, and a **fraction**. **IEEE754** double precision is utilized for Python mapping and has 64 total bits."
      ],
      "metadata": {
        "id": "Whily7lHi6Co"
      }
    },
    {
      "cell_type": "markdown",
      "source": [
        "You can use the following code to get information about floats in Python:"
      ],
      "metadata": {
        "id": "UbqpXEfmjQx4"
      }
    },
    {
      "cell_type": "code",
      "source": [
        "import sys\n",
        "sys.float_info"
      ],
      "metadata": {
        "colab": {
          "base_uri": "https://localhost:8080/"
        },
        "id": "Uhj0GK92podG",
        "outputId": "cee8585d-150b-4ae6-e985-c0184f4ba75c"
      },
      "execution_count": 6,
      "outputs": [
        {
          "output_type": "execute_result",
          "data": {
            "text/plain": [
              "sys.float_info(max=1.7976931348623157e+308, max_exp=1024, max_10_exp=308, min=2.2250738585072014e-308, min_exp=-1021, min_10_exp=-307, dig=15, mant_dig=53, epsilon=2.220446049250313e-16, radix=2, rounds=1)"
            ]
          },
          "metadata": {},
          "execution_count": 6
        }
      ]
    },
    {
      "cell_type": "markdown",
      "source": [
        "The distance from one number to the next is called the **gap**. Using the function *spacing* in *numpy*, one can find the gap at a given number.\n",
        "\n",
        "For example, let's find the gap at the number **1e6** and then verify that adding a number that is less than half the gap at **1e6** is the same number:"
      ],
      "metadata": {
        "id": "iaaHkqWcprad"
      }
    },
    {
      "cell_type": "code",
      "source": [
        "import numpy as np\n",
        "np.spacing(1e6)\n",
        "1e6 == (1e6 + np.spacing(1e6)/3)"
      ],
      "metadata": {
        "colab": {
          "base_uri": "https://localhost:8080/"
        },
        "id": "AZVcFNz3qf7v",
        "outputId": "1c03702c-ae24-4f7a-9940-13992caeffff"
      },
      "execution_count": 7,
      "outputs": [
        {
          "output_type": "execute_result",
          "data": {
            "text/plain": [
              "True"
            ]
          },
          "metadata": {},
          "execution_count": 7
        }
      ]
    },
    {
      "cell_type": "markdown",
      "source": [
        "The commands to calculate the largest and smallest possible float values in Python are the following:"
      ],
      "metadata": {
        "id": "Ec_qYsUWqzxd"
      }
    },
    {
      "cell_type": "code",
      "source": [
        "sys.float_info.max"
      ],
      "metadata": {
        "colab": {
          "base_uri": "https://localhost:8080/"
        },
        "id": "b0h1OkQMsq5h",
        "outputId": "4a6f115a-705e-4b49-9034-5bd5ab6b33bb"
      },
      "execution_count": 8,
      "outputs": [
        {
          "output_type": "execute_result",
          "data": {
            "text/plain": [
              "1.7976931348623157e+308"
            ]
          },
          "metadata": {},
          "execution_count": 8
        }
      ]
    },
    {
      "cell_type": "code",
      "source": [
        "sys.float_info.min"
      ],
      "metadata": {
        "colab": {
          "base_uri": "https://localhost:8080/"
        },
        "id": "209RDV9wssPI",
        "outputId": "a8f7b5af-d600-4365-96f9-63c5dcae3359"
      },
      "execution_count": 9,
      "outputs": [
        {
          "output_type": "execute_result",
          "data": {
            "text/plain": [
              "2.2250738585072014e-308"
            ]
          },
          "metadata": {},
          "execution_count": 9
        }
      ]
    },
    {
      "cell_type": "markdown",
      "source": [
        "Any number that is larger than the max floating point number is assigned the result inf, while any number that is smaller than the min floating point number is assigned 0, as shown in the following:"
      ],
      "metadata": {
        "id": "GYlA4Vk6styC"
      }
    },
    {
      "cell_type": "code",
      "source": [
        "sys.float_info.max"
      ],
      "metadata": {
        "colab": {
          "base_uri": "https://localhost:8080/"
        },
        "id": "OgzjVc7ItO9I",
        "outputId": "e40cf384-453c-417a-8916-3f07a9dd5c6a"
      },
      "execution_count": 14,
      "outputs": [
        {
          "output_type": "execute_result",
          "data": {
            "text/plain": [
              "1.7976931348623157e+308"
            ]
          },
          "metadata": {},
          "execution_count": 14
        }
      ]
    },
    {
      "cell_type": "code",
      "source": [
        "sys.float_info.max + sys.float_info.max"
      ],
      "metadata": {
        "colab": {
          "base_uri": "https://localhost:8080/"
        },
        "id": "UuI02VZos_4X",
        "outputId": "1c4a3361-fb45-4fec-869c-9298d44c0f02"
      },
      "execution_count": 13,
      "outputs": [
        {
          "output_type": "execute_result",
          "data": {
            "text/plain": [
              "inf"
            ]
          },
          "metadata": {},
          "execution_count": 13
        }
      ]
    },
    {
      "cell_type": "code",
      "source": [
        "2**(-1074)"
      ],
      "metadata": {
        "colab": {
          "base_uri": "https://localhost:8080/"
        },
        "id": "C-SzI-dAtSHJ",
        "outputId": "5c1bea29-d562-469c-f033-8743bfdcf259"
      },
      "execution_count": 15,
      "outputs": [
        {
          "output_type": "execute_result",
          "data": {
            "text/plain": [
              "5e-324"
            ]
          },
          "metadata": {},
          "execution_count": 15
        }
      ]
    },
    {
      "cell_type": "code",
      "source": [
        "2**(-1075)"
      ],
      "metadata": {
        "colab": {
          "base_uri": "https://localhost:8080/"
        },
        "id": "NN9xobYitUDl",
        "outputId": "c8a17d35-d3ea-43f5-b4a9-6ecdf7618dde"
      },
      "execution_count": 16,
      "outputs": [
        {
          "output_type": "execute_result",
          "data": {
            "text/plain": [
              "0.0"
            ]
          },
          "metadata": {},
          "execution_count": 16
        }
      ]
    },
    {
      "cell_type": "markdown",
      "source": [
        "**Section 9.3 Round-off Errors**\n",
        "\n",
        "The difference between an approximation of a number and its actual value is the **round-off error**. An example would be representation error for values such as infinitely long decimal representations of fractions, where a finite digit limit causes round-off errors."
      ],
      "metadata": {
        "id": "3VvSyz_CtVJj"
      }
    },
    {
      "cell_type": "markdown",
      "source": [
        "An example can be seen below:"
      ],
      "metadata": {
        "id": "u_8I1CpFt-5a"
      }
    },
    {
      "cell_type": "code",
      "source": [
        "6.7 - 6.342 == 0.358"
      ],
      "metadata": {
        "colab": {
          "base_uri": "https://localhost:8080/"
        },
        "id": "hDzPlKeUuEhZ",
        "outputId": "c4a32dfb-d298-422e-e278-d175be6385a7"
      },
      "execution_count": 17,
      "outputs": [
        {
          "output_type": "execute_result",
          "data": {
            "text/plain": [
              "False"
            ]
          },
          "metadata": {},
          "execution_count": 17
        }
      ]
    },
    {
      "cell_type": "code",
      "source": [
        "6.7 - 6.342"
      ],
      "metadata": {
        "colab": {
          "base_uri": "https://localhost:8080/"
        },
        "id": "gQCQAk-NuMiE",
        "outputId": "7aa5ad24-b7b9-4e77-da39-e9162c6032ef"
      },
      "execution_count": 18,
      "outputs": [
        {
          "output_type": "execute_result",
          "data": {
            "text/plain": [
              "0.35800000000000054"
            ]
          },
          "metadata": {},
          "execution_count": 18
        }
      ]
    },
    {
      "cell_type": "markdown",
      "source": [
        "To counteract this, one can use the round function to compare values."
      ],
      "metadata": {
        "id": "El3V9lcTuRy_"
      }
    },
    {
      "cell_type": "code",
      "source": [
        "round(6.7 - 6.342, 6) == round(0.358, 6)"
      ],
      "metadata": {
        "colab": {
          "base_uri": "https://localhost:8080/"
        },
        "id": "WJBwxwiwuW_9",
        "outputId": "07b9df7e-8546-486f-8886-633bfd7f1554"
      },
      "execution_count": 19,
      "outputs": [
        {
          "output_type": "execute_result",
          "data": {
            "text/plain": [
              "True"
            ]
          },
          "metadata": {},
          "execution_count": 19
        }
      ]
    },
    {
      "cell_type": "markdown",
      "source": [
        "The rounding error issue gets more prominent if calculations are done many times.\n",
        "\n",
        "For example, adding and subtracting the same number over and over from an initial constant can result in round-off error becoming more prominent, as shown below:"
      ],
      "metadata": {
        "id": "2QDnQrgsue9Q"
      }
    },
    {
      "cell_type": "code",
      "source": [
        "def add_and_subtract(iter):\n",
        "  output = 1\n",
        "  for i in range(iter):\n",
        "    output += 4/6\n",
        "  for j in range(iter):\n",
        "    output -= 4/6\n",
        "  return output"
      ],
      "metadata": {
        "id": "KIy7BRIuuwjC"
      },
      "execution_count": 23,
      "outputs": []
    },
    {
      "cell_type": "code",
      "source": [
        "add_and_subtract(1)"
      ],
      "metadata": {
        "colab": {
          "base_uri": "https://localhost:8080/"
        },
        "id": "Al9W6bZjvje6",
        "outputId": "cbff1534-8819-421d-a596-255ddabc56fa"
      },
      "execution_count": 22,
      "outputs": [
        {
          "output_type": "execute_result",
          "data": {
            "text/plain": [
              "0.9999999999999999"
            ]
          },
          "metadata": {},
          "execution_count": 22
        }
      ]
    },
    {
      "cell_type": "code",
      "source": [
        "add_and_subtract(10)"
      ],
      "metadata": {
        "colab": {
          "base_uri": "https://localhost:8080/"
        },
        "id": "cs7xo_3HvoOU",
        "outputId": "d7498f9c-b958-4e1b-9127-cb730de93176"
      },
      "execution_count": 24,
      "outputs": [
        {
          "output_type": "execute_result",
          "data": {
            "text/plain": [
              "1.0000000000000004"
            ]
          },
          "metadata": {},
          "execution_count": 24
        }
      ]
    },
    {
      "cell_type": "code",
      "source": [
        "add_and_subtract(100)"
      ],
      "metadata": {
        "colab": {
          "base_uri": "https://localhost:8080/"
        },
        "id": "_8Hs7FG6vqun",
        "outputId": "05f9cf69-105d-4030-a617-c874ac598325"
      },
      "execution_count": 25,
      "outputs": [
        {
          "output_type": "execute_result",
          "data": {
            "text/plain": [
              "1.0000000000000013"
            ]
          },
          "metadata": {},
          "execution_count": 25
        }
      ]
    },
    {
      "cell_type": "code",
      "source": [
        "add_and_subtract(10000)"
      ],
      "metadata": {
        "colab": {
          "base_uri": "https://localhost:8080/"
        },
        "id": "VNka6NIevs6u",
        "outputId": "86b25c50-f30c-47b0-978e-627c3aef2fb8"
      },
      "execution_count": 26,
      "outputs": [
        {
          "output_type": "execute_result",
          "data": {
            "text/plain": [
              "1.000000000000243"
            ]
          },
          "metadata": {},
          "execution_count": 26
        }
      ]
    }
  ]
}